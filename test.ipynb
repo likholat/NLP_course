{
 "cells": [
  {
   "cell_type": "code",
   "execution_count": 26,
   "metadata": {},
   "outputs": [
    {
     "name": "stdout",
     "output_type": "stream",
     "text": [
      "(48000, 4)\n",
      "(12000, 3)\n"
     ]
    }
   ],
   "source": [
    "import re\n",
    "import pandas as pd\n",
    "import numpy as np\n",
    "\n",
    "from sklearn.model_selection import train_test_split\n",
    "from sklearn.feature_extraction.text import CountVectorizer\n",
    "from sklearn.neighbors import KNeighborsClassifier\n",
    "from sklearn.metrics import accuracy_score\n",
    "\n",
    "training_data = pd.read_parquet('./data/train.parquet', engine='pyarrow')\n",
    "test_data = pd.read_parquet('./data/test.parquet', engine='pyarrow')\n",
    "\n",
    "print(training_data.shape)\n",
    "print(test_data.shape)"
   ]
  },
  {
   "cell_type": "code",
   "execution_count": 23,
   "metadata": {},
   "outputs": [
    {
     "name": "stdout",
     "output_type": "stream",
     "text": [
      "48000 48000\n"
     ]
    }
   ],
   "source": [
    "# parse train data\n",
    "\n",
    "target = []\n",
    "text = []\n",
    "test_text = []\n",
    "for index, row in training_data.iterrows():\n",
    "    tmp = row['Body'] + row['Title'] + row['Tags']\n",
    "    text.append(tmp)\n",
    "    target.append(row['target'])\n",
    "    \n",
    "for index, row in test_data.iterrows():\n",
    "    tmp = row['Body'] + row['Title'] + row['Tags']\n",
    "    test_text.append(tmp)\n",
    "    \n",
    "print(len(target), len(text))"
   ]
  },
  {
   "cell_type": "code",
   "execution_count": 24,
   "metadata": {},
   "outputs": [
    {
     "name": "stdout",
     "output_type": "stream",
     "text": [
      "(43200, 213899) (4800, 213899)\n"
     ]
    }
   ],
   "source": [
    "# BOW\n",
    "\n",
    "# create the transform\n",
    "vectorizer = CountVectorizer(dtype=np.uint16)\n",
    "# tokenize and build vocab\n",
    "vectorizer.fit(text)\n",
    "# encode document\n",
    "bow_vector = vectorizer.transform(text)\n",
    "test_vector = tfidvectorizer.transform(test_text)\n",
    "\n",
    "# split to train and test \n",
    "train, validation, res_train, res_validation = train_test_split(bow_vector, target, test_size=.1, random_state=0)\n",
    "print(train.shape, validation.shape)\n",
    "\n",
    "# print(np.max(bow_vec), np.min(bow_vec))"
   ]
  },
  {
   "cell_type": "code",
   "execution_count": null,
   "metadata": {},
   "outputs": [],
   "source": [
    "# KNN\n",
    "\n",
    "k = 10\n",
    "knn = KNeighborsClassifier(n_neighbors=k)\n",
    "knn.fit(train, res_train)\n",
    "train_prediction = knn.predict(train)\n",
    "validation_prediction = knn.predict(validation)\n",
    "test_prediction = knn.predict(test_vector)\n",
    "\n",
    "print(f'k = {k}, validation_accuracy = {accuracy_score(validation_prediction, res_validation)}, train_accuracy = {accuracy_score(train_prediction, res_train)}')"
   ]
  },
  {
   "cell_type": "code",
   "execution_count": 28,
   "metadata": {},
   "outputs": [
    {
     "ename": "NameError",
     "evalue": "name 'test_prediction' is not defined",
     "output_type": "error",
     "traceback": [
      "\u001b[0;31m---------------------------------------------------------------------------\u001b[0m",
      "\u001b[0;31mNameError\u001b[0m                                 Traceback (most recent call last)",
      "\u001b[0;32m<ipython-input-28-fd18f92e8a0a>\u001b[0m in \u001b[0;36m<module>\u001b[0;34m\u001b[0m\n\u001b[0;32m----> 1\u001b[0;31m \u001b[0mresult\u001b[0m \u001b[0;34m=\u001b[0m \u001b[0mpd\u001b[0m\u001b[0;34m.\u001b[0m\u001b[0mDataFrame\u001b[0m\u001b[0;34m(\u001b[0m\u001b[0;34m{\u001b[0m\u001b[0;34m'Id'\u001b[0m\u001b[0;34m:\u001b[0m \u001b[0mtest_data\u001b[0m\u001b[0;34m.\u001b[0m\u001b[0mindex\u001b[0m\u001b[0;34m,\u001b[0m \u001b[0;34m'Predicted'\u001b[0m\u001b[0;34m:\u001b[0m \u001b[0mtest_prediction\u001b[0m\u001b[0;34m}\u001b[0m\u001b[0;34m)\u001b[0m\u001b[0;34m\u001b[0m\u001b[0m\n\u001b[0m\u001b[1;32m      2\u001b[0m \u001b[0mresult\u001b[0m\u001b[0;34m.\u001b[0m\u001b[0mto_csv\u001b[0m\u001b[0;34m(\u001b[0m\u001b[0;34m'res.csv'\u001b[0m\u001b[0;34m,\u001b[0m \u001b[0mindex\u001b[0m\u001b[0;34m=\u001b[0m\u001b[0;32mFalse\u001b[0m\u001b[0;34m)\u001b[0m\u001b[0;34m\u001b[0m\u001b[0m\n",
      "\u001b[0;31mNameError\u001b[0m: name 'test_prediction' is not defined"
     ]
    }
   ],
   "source": [
    "result = pd.DataFrame({'Id': test_data.index, 'Predicted': test_prediction})\n",
    "result.to_csv('res.csv', index=False)"
   ]
  }
 ],
 "metadata": {
  "kernelspec": {
   "display_name": "my-rdkit-env",
   "language": "python",
   "name": "my-rdkit-env"
  },
  "language_info": {
   "codemirror_mode": {
    "name": "ipython",
    "version": 3
   },
   "file_extension": ".py",
   "mimetype": "text/x-python",
   "name": "python",
   "nbconvert_exporter": "python",
   "pygments_lexer": "ipython3",
   "version": "3.6.5"
  }
 },
 "nbformat": 4,
 "nbformat_minor": 2
}
