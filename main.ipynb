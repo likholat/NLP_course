{
 "cells": [
  {
   "cell_type": "code",
   "execution_count": 1,
   "metadata": {},
   "outputs": [],
   "source": [
    "import pandas as pd\n",
    "\n",
    "training_data = pd.read_parquet('./data/train.parquet', engine='pyarrow')\n",
    "test_data = pd.read_parquet('./data/test.parquet', engine='pyarrow')\n",
    "sample_data = pd.read_csv('./data/sample_submission.csv')"
   ]
  },
  {
   "cell_type": "code",
   "execution_count": 2,
   "metadata": {},
   "outputs": [
    {
     "name": "stdout",
     "output_type": "stream",
     "text": [
      "48000 48000\n"
     ]
    }
   ],
   "source": [
    "# parse train data\n",
    "\n",
    "target = []\n",
    "text = []\n",
    "for index, row in training_data.iterrows():\n",
    "    tmp = row['Body'] + row['Title'] + row['Tags']\n",
    "    text.append(tmp)\n",
    "    target.append(row['target'])\n",
    "    \n",
    "print(len(target), len(text))"
   ]
  },
  {
   "cell_type": "code",
   "execution_count": 3,
   "metadata": {},
   "outputs": [
    {
     "name": "stdout",
     "output_type": "stream",
     "text": [
      "(48000, 199782)\n",
      "(38400, 199782) (9600, 199782)\n"
     ]
    }
   ],
   "source": [
    "# BOW\n",
    "\n",
    "from sklearn.feature_extraction.text import CountVectorizer\n",
    "from sklearn.model_selection import train_test_split\n",
    "import numpy as np\n",
    "import re\n",
    "\n",
    "def my_preprocessor(doc):\n",
    "    doc = re.sub('<[^>]*>', '', doc)\n",
    "    return doc.lower()\n",
    "\n",
    "# create the transform\n",
    "vectorizer = CountVectorizer(preprocessor=my_preprocessor, dtype=np.uint16)\n",
    "# tokenize and build vocab\n",
    "vectorizer.fit(text)\n",
    "# encode document\n",
    "vector = vectorizer.transform(text)\n",
    "bow_vec = vector.toarray()\n",
    "print(vector.shape)\n",
    "\n",
    "# split to train and test \n",
    "bow_train, bow_test, bow_res_train, bow_res_test = train_test_split(bow_vec, target, test_size=.2, random_state=0)\n",
    "print(bow_train.shape, bow_test.shape)\n",
    "\n",
    "# print(np.max(bow_vec), np.min(bow_vec))"
   ]
  },
  {
   "cell_type": "code",
   "execution_count": null,
   "metadata": {},
   "outputs": [],
   "source": [
    "# TF-IDF\n",
    "\n",
    "from sklearn.feature_extraction.text import TfidfVectorizer\n",
    "\n",
    "# create the transform\n",
    "tfidvectorizer = TfidfVectorizer(preprocessor=my_preprocessor, dtype=np.float32)\n",
    "# tokenize and build vocab\n",
    "tfidvectorizer.fit(text)\n",
    "# encode document\n",
    "tfidvector = tfidvectorizer.transform(text)\n",
    "tfid_vec = tfidvector.toarray()\n",
    "\n",
    "print('hello')\n",
    "print(tfidvector.shape)\n",
    "\n",
    "# print(np.max(tf_idf_vec), np.min(tf_idf_vec))"
   ]
  },
  {
   "cell_type": "code",
   "execution_count": 4,
   "metadata": {},
   "outputs": [
    {
     "name": "stdout",
     "output_type": "stream",
     "text": [
      "Collecting gensim\n",
      "  Downloading gensim-4.1.2-cp36-cp36m-manylinux_2_12_x86_64.manylinux2010_x86_64.whl (24.1 MB)\n",
      "\u001b[K     |████████████████████████████████| 24.1 MB 1.7 MB/s eta 0:00:01\n",
      "\u001b[?25hRequirement already satisfied: smart-open>=1.8.1 in /home/alikholat/anaconda3/envs/my-rdkit-env/lib/python3.6/site-packages (from gensim) (5.2.1)\n",
      "Requirement already satisfied: scipy>=0.18.1 in /home/alikholat/.local/lib/python3.6/site-packages (from gensim) (1.5.4)\n",
      "Requirement already satisfied: numpy>=1.17.0 in /home/alikholat/.local/lib/python3.6/site-packages (from gensim) (1.18.3)\n",
      "Requirement already satisfied: dataclasses in /home/alikholat/.local/lib/python3.6/site-packages (from gensim) (0.8)\n",
      "Installing collected packages: gensim\n",
      "Successfully installed gensim-4.1.2\n"
     ]
    }
   ],
   "source": [
    "!pip install gensim"
   ]
  },
  {
   "cell_type": "code",
   "execution_count": null,
   "metadata": {},
   "outputs": [],
   "source": [
    "# W2V\n",
    "\n",
    "from gensim.models import Word2Vec\n"
   ]
  }
 ],
 "metadata": {
  "interpreter": {
   "hash": "3b62506217f1817fc5e036a00f647496fde1e97cf7472d282fc7547faf1048aa"
  },
  "kernelspec": {
   "display_name": "my-rdkit-env",
   "language": "python",
   "name": "my-rdkit-env"
  },
  "language_info": {
   "codemirror_mode": {
    "name": "ipython",
    "version": 3
   },
   "file_extension": ".py",
   "mimetype": "text/x-python",
   "name": "python",
   "nbconvert_exporter": "python",
   "pygments_lexer": "ipython3",
   "version": "3.6.5"
  }
 },
 "nbformat": 4,
 "nbformat_minor": 2
}
