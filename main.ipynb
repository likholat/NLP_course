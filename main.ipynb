{
 "cells": [
  {
   "cell_type": "code",
   "execution_count": 83,
   "metadata": {},
   "outputs": [],
   "source": [
    "import re\n",
    "import time\n",
    "import pandas as pd\n",
    "import numpy as np\n",
    "import gensim.downloader as api\n",
    "\n",
    "from nltk.tokenize import WordPunctTokenizer\n",
    "from sklearn.model_selection import train_test_split\n",
    "from sklearn.feature_extraction.text import CountVectorizer\n",
    "from sklearn.feature_extraction.text import TfidfVectorizer\n",
    "from sklearn.ensemble import RandomForestClassifier\n",
    "from sklearn.linear_model import LogisticRegression\n",
    "from sklearn.metrics import accuracy_score\n",
    "from keras.preprocessing.text import Tokenizer\n",
    "\n",
    "from torch import nn\n",
    "from torch.utils.data import DataLoader, Dataset\n",
    "from torchtext.data.utils import get_tokenizer\n",
    "from torchtext.vocab import build_vocab_from_iterator\n",
    "from torch.utils.data import DataLoader\n",
    "from torch.utils.data.dataset import random_split\n",
    "from torchtext.data.functional import to_map_style_dataset"
   ]
  },
  {
   "cell_type": "code",
   "execution_count": 84,
   "metadata": {},
   "outputs": [],
   "source": [
    "# Read data\n",
    "\n",
    "training_data = pd.read_parquet('./data/train.parquet', engine='pyarrow')\n",
    "test_data = pd.read_parquet('./data/test.parquet', engine='pyarrow')"
   ]
  },
  {
   "cell_type": "markdown",
   "metadata": {},
   "source": [
    "##### EDA"
   ]
  },
  {
   "cell_type": "code",
   "execution_count": 85,
   "metadata": {
    "scrolled": true
   },
   "outputs": [
    {
     "name": "stdout",
     "output_type": "stream",
     "text": [
      "<class 'pandas.core.frame.DataFrame'>\n",
      "Int64Index: 48000 entries, 34862324 to 40415937\n",
      "Data columns (total 4 columns):\n",
      " #   Column  Non-Null Count  Dtype \n",
      "---  ------  --------------  ----- \n",
      " 0   Body    48000 non-null  object\n",
      " 1   Tags    48000 non-null  object\n",
      " 2   Title   48000 non-null  object\n",
      " 3   target  48000 non-null  int64 \n",
      "dtypes: int64(1), object(3)\n",
      "memory usage: 1.8+ MB\n"
     ]
    }
   ],
   "source": [
    "# Common info\n",
    "training_data.info()"
   ]
  },
  {
   "cell_type": "code",
   "execution_count": 86,
   "metadata": {},
   "outputs": [
    {
     "data": {
      "text/plain": [
       "2    16000\n",
       "1    16000\n",
       "0    16000\n",
       "Name: target, dtype: int64"
      ]
     },
     "execution_count": 86,
     "metadata": {},
     "output_type": "execute_result"
    }
   ],
   "source": [
    "# Classes are balanced:\n",
    "training_data.target.value_counts()"
   ]
  },
  {
   "cell_type": "code",
   "execution_count": 87,
   "metadata": {},
   "outputs": [
    {
     "data": {
      "text/plain": [
       "Body      0\n",
       "Tags      0\n",
       "Title     0\n",
       "target    0\n",
       "dtype: int64"
      ]
     },
     "execution_count": 87,
     "metadata": {},
     "output_type": "execute_result"
    }
   ],
   "source": [
    "# There are no missing values in the dataset:\n",
    "training_data.isna().sum()"
   ]
  },
  {
   "cell_type": "markdown",
   "metadata": {},
   "source": []
  },
  {
   "cell_type": "markdown",
   "metadata": {},
   "source": [
    "##### Сlassic vectorization"
   ]
  },
  {
   "cell_type": "code",
   "execution_count": 88,
   "metadata": {},
   "outputs": [],
   "source": [
    "# Data preprocessing\n",
    "\n",
    "text = []\n",
    "target = []\n",
    "for index, row in training_data.iterrows():\n",
    "    tmp = row['Body'] + row['Title'] + row['Tags']\n",
    "    text.append(tmp)\n",
    "    target.append(row['target'])\n",
    "\n",
    "test_text = []\n",
    "for index, row in test_data.iterrows():\n",
    "    tmp = row['Body'] + row['Title'] + row['Tags']\n",
    "    test_text.append(tmp)\n",
    "    \n",
    "inputs = {}"
   ]
  },
  {
   "cell_type": "code",
   "execution_count": 91,
   "metadata": {},
   "outputs": [],
   "source": [
    "# BOW\n",
    "\n",
    "# create the transform\n",
    "vectorizer = CountVectorizer(dtype=np.uint16)\n",
    "# tokenize and build vocab\n",
    "vectorizer.fit(text)\n",
    "# encode\n",
    "bow_vector = vectorizer.transform(text)\n",
    "test_vector = vectorizer.transform(test_text)\n",
    "\n",
    "# split to train and test \n",
    "train, validation, res_train, res_validation = train_test_split(bow_vector, target, test_size=.1, random_state=0)\n",
    "\n",
    "inputs['BOW'] = [train, validation, test_vector]"
   ]
  },
  {
   "cell_type": "code",
   "execution_count": 92,
   "metadata": {},
   "outputs": [],
   "source": [
    "# TF-IDF\n",
    "\n",
    "# create the transform\n",
    "tfidvectorizer = TfidfVectorizer(dtype=np.float32)\n",
    "# tokenize and build vocab\n",
    "tfidvectorizer.fit(text)\n",
    "# encode\n",
    "tfidvector = tfidvectorizer.transform(text)\n",
    "test_vector = tfidvectorizer.transform(test_text)\n",
    "\n",
    "# split to train and test\n",
    "train, validation, _, _ = train_test_split(tfidvector, target, test_size=.1, random_state=0)\n",
    "\n",
    "inputs['TF-IDF'] = [train, validation, test_vector]"
   ]
  },
  {
   "cell_type": "markdown",
   "metadata": {},
   "source": [
    "##### Pretrained embeddings"
   ]
  },
  {
   "cell_type": "code",
   "execution_count": 93,
   "metadata": {},
   "outputs": [],
   "source": [
    "def get_embedding(text, model):\n",
    "    embedding = []\n",
    "\n",
    "    # text to list of words\n",
    "    tokenizer = WordPunctTokenizer()\n",
    "    token_text = [tokenizer.tokenize(line) for line in text]\n",
    "    \n",
    "    for line in token_text:\n",
    "        vector = []\n",
    "        for word in line:\n",
    "            try:\n",
    "                vector.append(model.get_vector(word.lower()))\n",
    "            except:\n",
    "                pass\n",
    "        # normalize\n",
    "        embedding.append(sum(vector)/len(vector))\n",
    "\n",
    "    return pd.DataFrame(embedding)"
   ]
  },
  {
   "cell_type": "code",
   "execution_count": 94,
   "metadata": {},
   "outputs": [],
   "source": [
    "# W2V\n",
    "\n",
    "# load word2vec model\n",
    "model = api.load('word2vec-google-news-300')\n",
    "# count embeddings for train and test texts\n",
    "embedding = get_embedding(text, model)\n",
    "test_vector = get_embedding(test_text, model)\n",
    "\n",
    "train, validation, _, _ = train_test_split(embedding, target, test_size=.1, random_state=0)\n",
    "\n",
    "inputs['W2V'] = [train, validation, test_vector]"
   ]
  },
  {
   "cell_type": "code",
   "execution_count": 95,
   "metadata": {},
   "outputs": [],
   "source": [
    "# FastText\n",
    "\n",
    "# load fasttext model\n",
    "model = api.load('fasttext-wiki-news-subwords-300')\n",
    "# count embeddings for train and test texts\n",
    "embedding = get_embedding(text, model)\n",
    "test_vector = get_embedding(test_text, model)\n",
    "\n",
    "train, validation, _, _ = train_test_split(embedding, target, test_size=.1, random_state=0)\n",
    "\n",
    "inputs['Fasttext'] = [train, validation, test_vector]"
   ]
  },
  {
   "cell_type": "markdown",
   "metadata": {},
   "source": [
    "##### ML classifiers"
   ]
  },
  {
   "cell_type": "code",
   "execution_count": 111,
   "metadata": {},
   "outputs": [
    {
     "name": "stdout",
     "output_type": "stream",
     "text": [
      "| <class 'sklearn.ensemble._forest.RandomForestClassifier'>, BOW |  accuracy    0.785\n",
      "| <class 'sklearn.linear_model._logistic.LogisticRegression'>, BOW |  accuracy    0.807\n",
      "| <class 'sklearn.ensemble._forest.RandomForestClassifier'>, TF-IDF |  accuracy    0.784\n",
      "| <class 'sklearn.linear_model._logistic.LogisticRegression'>, TF-IDF |  accuracy    0.825\n",
      "| <class 'sklearn.ensemble._forest.RandomForestClassifier'>, W2V |  accuracy    0.803\n",
      "| <class 'sklearn.linear_model._logistic.LogisticRegression'>, W2V |  accuracy    0.833\n",
      "| <class 'sklearn.ensemble._forest.RandomForestClassifier'>, Fasttext |  accuracy    0.820\n",
      "| <class 'sklearn.linear_model._logistic.LogisticRegression'>, Fasttext |  accuracy    0.814\n"
     ]
    }
   ],
   "source": [
    "# compare ML classifiers\n",
    "\n",
    "classifiers = [\n",
    "    RandomForestClassifier(),\n",
    "    LogisticRegression(max_iter=10000)\n",
    "]\n",
    "for key, inp in inputs.items():\n",
    "    for classifier in classifiers:\n",
    "        classifier.fit(inp[0], res_train)\n",
    "        validation_prediction = classifier.predict(inp[1])\n",
    "        print('| {}, {} |  accuracy {:8.3f}'.format(type(classifier), key,\n",
    "                                            accuracy_score(validation_prediction, res_validation)))"
   ]
  },
  {
   "cell_type": "markdown",
   "metadata": {},
   "source": [
    "###### The best accuracy with ML was obtained for the LogisticRegression model when using W2V embedding"
   ]
  },
  {
   "cell_type": "code",
   "execution_count": 112,
   "metadata": {},
   "outputs": [],
   "source": [
    "classifier = classifiers[1]\n",
    "inp = inputs['W2V']\n",
    "\n",
    "classifier.fit(inp[0], res_train)\n",
    "test_prediction = classifier.predict(inp[2])"
   ]
  },
  {
   "cell_type": "code",
   "execution_count": 113,
   "metadata": {},
   "outputs": [],
   "source": [
    "result = pd.DataFrame({'Id': test_data.index, 'Predicted': test_prediction})\n",
    "result.to_csv('res.csv', index=False)"
   ]
  },
  {
   "cell_type": "markdown",
   "metadata": {},
   "source": [
    "##### Neural network"
   ]
  },
  {
   "cell_type": "code",
   "execution_count": 114,
   "metadata": {},
   "outputs": [],
   "source": [
    "class MyDataset(Dataset):\n",
    "    def __init__(self, data):\n",
    "        super().__init__()\n",
    "        self.data = data\n",
    "\n",
    "    def __len__(self):\n",
    "        return self.data.shape[0]\n",
    "\n",
    "    def __getitem__(self, idx):\n",
    "        data = self.data['Title'].iloc[idx] + self.data['Body'].iloc[idx] + self.data['Tags'].iloc[idx]\n",
    "        if 'target' in self.data.columns:\n",
    "            return self.data['target'].iloc[idx], data\n",
    "        else:\n",
    "            return data"
   ]
  },
  {
   "cell_type": "code",
   "execution_count": 115,
   "metadata": {},
   "outputs": [],
   "source": [
    "tokenizer = get_tokenizer('basic_english')\n",
    "\n",
    "def yield_tokens(data_iter):\n",
    "    for _, text in data_iter:\n",
    "        yield tokenizer(text)\n",
    "\n",
    "train_iter = MyDataset(training_data)\n",
    "vocab = build_vocab_from_iterator(yield_tokens(train_iter), specials=[\"<unk>\"])\n",
    "vocab.set_default_index(vocab[\"<unk>\"])"
   ]
  },
  {
   "cell_type": "code",
   "execution_count": 116,
   "metadata": {},
   "outputs": [],
   "source": [
    "text_pipeline = lambda x: vocab(tokenizer(x))\n",
    "label_pipeline = lambda x: int(x)"
   ]
  },
  {
   "cell_type": "code",
   "execution_count": 117,
   "metadata": {},
   "outputs": [],
   "source": [
    "device = torch.device(\"cpu\")\n",
    "\n",
    "def collate_batch(batch):\n",
    "    label_list, text_list, offsets = [], [], [0]\n",
    "    for (_label, _text) in batch:\n",
    "         label_list.append(label_pipeline(_label))\n",
    "         processed_text = torch.tensor(text_pipeline(_text), dtype=torch.int64)\n",
    "         text_list.append(processed_text)\n",
    "         offsets.append(processed_text.size(0))\n",
    "    label_list = torch.tensor(label_list, dtype=torch.int64)\n",
    "    offsets = torch.tensor(offsets[:-1]).cumsum(dim=0)\n",
    "    text_list = torch.cat(text_list)\n",
    "    return label_list.to(device), text_list.to(device), offsets.to(device)\n",
    "\n",
    "train_iter = MyDataset(training_data)\n",
    "dataloader = DataLoader(train_iter, batch_size=32, collate_fn=collate_batch)"
   ]
  },
  {
   "cell_type": "code",
   "execution_count": 118,
   "metadata": {},
   "outputs": [],
   "source": [
    "# FC model\n",
    "\n",
    "class TextClassificationModel(nn.Module):\n",
    "\n",
    "    def __init__(self, vocab_size, embed_dim, num_class):\n",
    "        super(TextClassificationModel, self).__init__()\n",
    "        self.embedding = nn.EmbeddingBag(vocab_size, embed_dim, sparse=True)\n",
    "        self.fc = nn.Linear(embed_dim, num_class)\n",
    "        self.init_weights()\n",
    "\n",
    "    def init_weights(self):\n",
    "        initrange = 0.5\n",
    "        self.embedding.weight.data.uniform_(-initrange, initrange)\n",
    "        self.fc.weight.data.uniform_(-initrange, initrange)\n",
    "        self.fc.bias.data.zero_()\n",
    "\n",
    "    def forward(self, text, offsets):\n",
    "        embedded = self.embedding(text, offsets)\n",
    "        return self.fc(embedded)"
   ]
  },
  {
   "cell_type": "code",
   "execution_count": 119,
   "metadata": {},
   "outputs": [],
   "source": [
    "train_iter = MyDataset(training_data)\n",
    "num_class = len(set([label for (label, text) in train_iter]))\n",
    "vocab_size = len(vocab)\n",
    "emsize = 64\n",
    "model = TextClassificationModel(vocab_size, emsize, num_class).to(device)"
   ]
  },
  {
   "cell_type": "code",
   "execution_count": 120,
   "metadata": {},
   "outputs": [],
   "source": [
    "def train(dataloader):\n",
    "    model.train()\n",
    "    total_acc, total_count = 0, 0\n",
    "    log_interval = 500\n",
    "    start_time = time.time()\n",
    "\n",
    "    for idx, (label, text, offsets) in enumerate(dataloader):\n",
    "        optimizer.zero_grad()\n",
    "        predicted_label = model(text, offsets)\n",
    "        loss = criterion(predicted_label, label)\n",
    "        loss.backward()\n",
    "        torch.nn.utils.clip_grad_norm_(model.parameters(), 0.1)\n",
    "        optimizer.step()\n",
    "        total_acc += (predicted_label.argmax(1) == label).sum().item()\n",
    "        total_count += label.size(0)\n",
    "        if idx % log_interval == 0 and idx > 0:\n",
    "            elapsed = time.time() - start_time\n",
    "            print('| epoch {:3d} | {:5d}/{:5d} batches '\n",
    "                  '| accuracy {:8.3f}'.format(epoch, idx, len(dataloader),\n",
    "                                              total_acc/total_count))\n",
    "            total_acc, total_count = 0, 0\n",
    "            start_time = time.time()\n",
    "\n",
    "def evaluate(dataloader):\n",
    "    model.eval()\n",
    "    total_acc, total_count = 0, 0\n",
    "\n",
    "    with torch.no_grad():\n",
    "        for idx, (label, text, offsets) in enumerate(dataloader):\n",
    "            predicted_label = model(text, offsets)\n",
    "            loss = criterion(predicted_label, label)\n",
    "            total_acc += (predicted_label.argmax(1) == label).sum().item()\n",
    "            total_count += label.size(0)\n",
    "    return total_acc/total_count"
   ]
  },
  {
   "cell_type": "code",
   "execution_count": 121,
   "metadata": {},
   "outputs": [
    {
     "name": "stdout",
     "output_type": "stream",
     "text": [
      "| epoch   1 |   500/  713 batches | accuracy    0.711\n",
      "-----------------------------------------------------------\n",
      "| end of epoch   1 | time:  7.98s | valid accuracy    0.838 \n",
      "-----------------------------------------------------------\n",
      "| epoch   2 |   500/  713 batches | accuracy    0.849\n",
      "-----------------------------------------------------------\n",
      "| end of epoch   2 | time:  7.96s | valid accuracy    0.860 \n",
      "-----------------------------------------------------------\n",
      "| epoch   3 |   500/  713 batches | accuracy    0.872\n",
      "-----------------------------------------------------------\n",
      "| end of epoch   3 | time:  7.96s | valid accuracy    0.865 \n",
      "-----------------------------------------------------------\n",
      "| epoch   4 |   500/  713 batches | accuracy    0.884\n",
      "-----------------------------------------------------------\n",
      "| end of epoch   4 | time:  7.97s | valid accuracy    0.886 \n",
      "-----------------------------------------------------------\n",
      "| epoch   5 |   500/  713 batches | accuracy    0.895\n",
      "-----------------------------------------------------------\n",
      "| end of epoch   5 | time:  7.97s | valid accuracy    0.869 \n",
      "-----------------------------------------------------------\n",
      "| epoch   6 |   500/  713 batches | accuracy    0.916\n",
      "-----------------------------------------------------------\n",
      "| end of epoch   6 | time:  7.98s | valid accuracy    0.900 \n",
      "-----------------------------------------------------------\n",
      "| epoch   7 |   500/  713 batches | accuracy    0.917\n",
      "-----------------------------------------------------------\n",
      "| end of epoch   7 | time:  7.97s | valid accuracy    0.901 \n",
      "-----------------------------------------------------------\n",
      "| epoch   8 |   500/  713 batches | accuracy    0.917\n",
      "-----------------------------------------------------------\n",
      "| end of epoch   8 | time:  8.81s | valid accuracy    0.899 \n",
      "-----------------------------------------------------------\n",
      "| epoch   9 |   500/  713 batches | accuracy    0.919\n",
      "-----------------------------------------------------------\n",
      "| end of epoch   9 | time:  7.96s | valid accuracy    0.904 \n",
      "-----------------------------------------------------------\n",
      "| epoch  10 |   500/  713 batches | accuracy    0.919\n",
      "-----------------------------------------------------------\n",
      "| end of epoch  10 | time:  8.08s | valid accuracy    0.904 \n",
      "-----------------------------------------------------------\n"
     ]
    }
   ],
   "source": [
    "# Hyperparameters\n",
    "EPOCHS = 10 # epoch\n",
    "LR = 5  # learning rate\n",
    "BATCH_SIZE = 64 # batch size for training\n",
    "\n",
    "criterion = torch.nn.CrossEntropyLoss()\n",
    "optimizer = torch.optim.SGD(model.parameters(), lr=LR)\n",
    "scheduler = torch.optim.lr_scheduler.StepLR(optimizer, 1.0, gamma=0.1)\n",
    "total_accu = None\n",
    "test_iter = MyDataset(test_data)\n",
    "train_iter = MyDataset(training_data)\n",
    "train_dataset = to_map_style_dataset(train_iter)\n",
    "test_dataset = to_map_style_dataset(test_iter)\n",
    "num_train = int(len(train_dataset) * 0.95)\n",
    "\n",
    "# split to train and test \n",
    "split_train_, split_valid_ = random_split(train_dataset, [num_train, len(train_dataset) - num_train])\n",
    "\n",
    "train_dataloader = DataLoader(split_train_, batch_size=BATCH_SIZE,\n",
    "                              shuffle=True, collate_fn=collate_batch)\n",
    "valid_dataloader = DataLoader(split_valid_, batch_size=BATCH_SIZE,\n",
    "                              shuffle=True, collate_fn=collate_batch)\n",
    "\n",
    "for epoch in range(1, EPOCHS + 1):\n",
    "    epoch_start_time = time.time()\n",
    "    train(train_dataloader)\n",
    "    accu_val = evaluate(valid_dataloader)\n",
    "    if total_accu is not None and total_accu > accu_val:\n",
    "      scheduler.step()\n",
    "    else:\n",
    "       total_accu = accu_val\n",
    "    print('-' * 59)\n",
    "    print('| end of epoch {:3d} | time: {:5.2f}s | '\n",
    "          'valid accuracy {:8.3f} '.format(epoch,\n",
    "                                           time.time() - epoch_start_time,\n",
    "                                           accu_val))\n",
    "    print('-' * 59)"
   ]
  },
  {
   "cell_type": "code",
   "execution_count": 122,
   "metadata": {},
   "outputs": [],
   "source": [
    "def predict(text, text_pipeline):\n",
    "    with torch.no_grad():\n",
    "        text = torch.tensor(text_pipeline(text))\n",
    "        output = model(text, torch.tensor([0]))\n",
    "        return output.argmax(1).item()\n",
    "    \n",
    "test_prediction = []\n",
    "for text in test_dataset:\n",
    "    test_prediction.append(predict(text, text_pipeline))"
   ]
  },
  {
   "cell_type": "code",
   "execution_count": 123,
   "metadata": {},
   "outputs": [],
   "source": [
    "result = pd.DataFrame({'Id': test_data.index, 'Predicted': test_prediction})\n",
    "result.to_csv('res1.csv', index=False)"
   ]
  }
 ],
 "metadata": {
  "interpreter": {
   "hash": "2f5e94398bdc215b524fe565f186c3db23cb363d1b6a42625c152e2b118c3661"
  },
  "kernelspec": {
   "display_name": "my-rdkit-env",
   "language": "python",
   "name": "python3"
  },
  "language_info": {
   "codemirror_mode": {
    "name": "ipython",
    "version": 3
   },
   "file_extension": ".py",
   "mimetype": "text/x-python",
   "name": "python",
   "nbconvert_exporter": "python",
   "pygments_lexer": "ipython3",
   "version": "3.6.13"
  }
 },
 "nbformat": 4,
 "nbformat_minor": 2
}
